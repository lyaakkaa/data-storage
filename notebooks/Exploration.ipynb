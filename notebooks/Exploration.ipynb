{
 "cells": [
  {
   "cell_type": "code",
   "execution_count": 1,
   "metadata": {
    "collapsed": false
   },
   "outputs": [],
   "source": [
    "import pandas as pd\n",
    "import matplotlib.pyplot as plt\n",
    "import numpy as np\n",
    "import seaborn\n",
    "%matplotlib inline"
   ]
  },
  {
   "cell_type": "code",
   "execution_count": 16,
   "metadata": {},
   "outputs": [],
   "source": [
    "\n",
    "\n",
    "from pandas import DataFrame\n",
    "\n",
    "\n",
    "def read_data():\n",
    "    df = pd.read_csv('data.csv', parse_dates=['FECHA'], infer_datetime_format=True)\n",
    "    df['CPRECIO'] = df['CPRECIO'].map(lambda x: str(x).strip().replace(\",\", \"\"))\n",
    "    df['CPRECIO'] = DataFrame(df['CPRECIO']).convert_objects(convert_numeric=True)\n",
    "    df['COSTOPESOS'] = df[' COSTOPESOS ']\n",
    "    df = df.drop(['CPRECIO', 'COSTOPESOS'], axis=1)\n",
    "    cols = df.columns.values \n",
    "    cols[-3] = \"YEAR\"\n",
    "    df.columns = cols\n",
    "    return df"
   ]
  },
  {
   "cell_type": "code",
   "execution_count": 17,
   "metadata": {},
   "outputs": [],
   "source": [
    "def calculate_extra_cols(df):\n",
    "    df['total_price'] =  df['CPRECIO'] * df['#UNIDADES'] * df['CTIPOCAM01']\n",
    "    return df"
   ]
  },
  {
   "cell_type": "code",
   "execution_count": null,
   "metadata": {
    "collapsed": false
   },
   "outputs": [],
   "source": [
    "df = read_data()"
   ]
  },
  {
   "cell_type": "code",
   "execution_count": null,
   "metadata": {
    "collapsed": false
   },
   "outputs": [],
   "source": [
    "\n",
    "df = calculate_extra_cols(df)"
   ]
  },
  {
   "cell_type": "markdown",
   "metadata": {},
   "source": [
    "#### Articles sold per year"
   ]
  },
  {
   "cell_type": "code",
   "execution_count": null,
   "metadata": {
    "collapsed": false
   },
   "outputs": [],
   "source": [
    "art_year = df.groupby('YEAR')[\"#UNIDADES\", \"total_price\"].sum()\n",
    "art_year['#UNIDADES'].plot(kind='bar')\n",
    "# plt.xticks(range(5), ('2010', '2012', '2013', '2014', '2015'))"
   ]
  },
  {
   "cell_type": "markdown",
   "metadata": {},
   "source": [
    "#### Articles sold per month across all years"
   ]
  },
  {
   "cell_type": "code",
   "execution_count": null,
   "metadata": {
    "collapsed": false
   },
   "outputs": [],
   "source": [
    "art_month = df.groupby('MES')[\"#UNIDADES\"].mean()\n",
    "art_month.sort_index().plot(kind='bar')"
   ]
  },
  {
   "cell_type": "markdown",
   "metadata": {},
   "source": [
    "#### Articles sold per month per year"
   ]
  },
  {
   "cell_type": "code",
   "execution_count": null,
   "metadata": {
    "collapsed": false
   },
   "outputs": [],
   "source": [
    "month_year = df.groupby([\"YEAR\", \"MES\"])['#UNIDADES'].sum()\n",
    "month_year.plot()\n",
    "# per = new.index.to_period(\"M\")\n",
    "# plt.bar(per.value_counts())"
   ]
  },
  {
   "cell_type": "markdown",
   "metadata": {
    "collapsed": true
   },
   "source": [
    "#### Jumping into time series"
   ]
  },
  {
   "cell_type": "code",
   "execution_count": null,
   "metadata": {
    "collapsed": false
   },
   "outputs": [],
   "source": [
    "ts = df.set_index(\"FECHA\")[[\"#UNIDADES\", \"total_price\"]]\n",
    "ts = ts[~ts[\"total_price\"].isnull()]\n",
    "ts[\"total_price\"] /= 100.0\n",
    "ts = ts.sort_index()\n",
    "axes = ts[\"#UNIDADES\"].plot()\n",
    "axes.set_xlabel(\"Years\")"
   ]
  },
  {
   "cell_type": "markdown",
   "metadata": {},
   "source": [
    "#### Lets try a transformation to the data"
   ]
  },
  {
   "cell_type": "code",
   "execution_count": null,
   "metadata": {
    "collapsed": false
   },
   "outputs": [],
   "source": [
    "logts = np.log(ts[\"#UNIDADES\"])\n",
    "axes = logts[logts > 0].plot()\n",
    "axes.set_xlabel(\"Years\")"
   ]
  },
  {
   "cell_type": "markdown",
   "metadata": {},
   "source": [
    "#### After resampling to the sum of months "
   ]
  },
  {
   "cell_type": "code",
   "execution_count": null,
   "metadata": {
    "collapsed": false
   },
   "outputs": [],
   "source": [
    "month_ts = ts.resample('M').sum().sort_index()\n",
    "axes = month_ts.plot()\n",
    "axes.set_xlabel(\"Years\")\n",
    "axes.legend(labels=[\"Units\", \"Price Sum / 100\"])"
   ]
  },
  {
   "cell_type": "code",
   "execution_count": null,
   "metadata": {
    "collapsed": false
   },
   "outputs": [],
   "source": [
    "log_month_ts = np.log(month_ts)\n",
    "axes = log_month_ts.plot()\n",
    "axes.set_xlabel(\"Years\")\n",
    "axes.legend(labels=[\"Units\", \"Price Sum / 100\"])"
   ]
  }
 ],
 "metadata": {
  "anaconda-cloud": {},
  "kernelspec": {
   "display_name": "base",
   "language": "python",
   "name": "python3"
  },
  "language_info": {
   "codemirror_mode": {
    "name": "ipython",
    "version": 3
   },
   "file_extension": ".py",
   "mimetype": "text/x-python",
   "name": "python",
   "nbconvert_exporter": "python",
   "pygments_lexer": "ipython3",
   "version": "3.11.4"
  }
 },
 "nbformat": 4,
 "nbformat_minor": 0
}
