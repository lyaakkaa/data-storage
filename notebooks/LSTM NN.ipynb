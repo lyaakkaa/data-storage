{
 "cells": [
  {
   "cell_type": "code",
   "execution_count": 5,
   "metadata": {
    "collapsed": false
   },
   "outputs": [
    {
     "name": "stderr",
     "output_type": "stream",
     "text": [
      "Using Theano backend.\n"
     ]
    }
   ],
   "source": [
    "import keras\n",
    "from keras.models import Sequential\n",
    "from keras.layers import LSTM, Dense\n",
    "from sklearn.preprocessing import MinMaxScaler\n",
    "import pandas as pd\n",
    "import numpy as np\n",
    "import matplotlib.pyplot as plt\n",
    "import seaborn as sns\n",
    "%matplotlib inline"
   ]
  },
  {
   "cell_type": "code",
   "execution_count": 2,
   "metadata": {
    "collapsed": true
   },
   "outputs": [],
   "source": [
    "np.random.seed(7)"
   ]
  },
  {
   "cell_type": "code",
   "execution_count": 16,
   "metadata": {
    "collapsed": true
   },
   "outputs": [],
   "source": [
    "def read_data(path):\n",
    "    df = pd.read_csv(path, parse_dates=['FECHA'], infer_datetime_format=True)\n",
    "    df['CPRECIO'] = df[' CPRECIO '].map(lambda x: x.strip().replace(\",\", \"\"))\n",
    "    df['CPRECIO'] = df['CPRECIO'].convert_objects(convert_numeric=True)\n",
    "    df['COSTOPESOS'] = df[' COSTOPESOS ']\n",
    "    df = df.drop([' CPRECIO ', ' COSTOPESOS '], axis=1)\n",
    "    cols = df.columns.values \n",
    "    cols[-3] = \"YEAR\"\n",
    "    df.columns = cols\n",
    "    return df\n",
    "\n",
    "def read_test_data(path):\n",
    "    df = pd.read_csv(path, parse_dates=['FECHA'], infer_datetime_format=True)\n",
    "    df['CPRECIO'] = df[' CPRECIO ']\n",
    "    df['COSTOPESOS'] = df[' COSTOPESOS ']\n",
    "    df = df.drop([' CPRECIO ', ' COSTOPESOS '], axis=1)\n",
    "    cols = df.columns.values \n",
    "    cols[-3] = \"YEAR\"\n",
    "    df.columns = cols\n",
    "    return df\n",
    "\n",
    "def calculate_extra_cols(df):\n",
    "    df['total_price'] =  df['CPRECIO'] * df['#UNIDADES'] * df['CTIPOCAM01']\n",
    "    return df"
   ]
  },
  {
   "cell_type": "code",
   "execution_count": null,
   "metadata": {
    "collapsed": false
   },
   "outputs": [],
   "source": [
    "df = read_data('./BASEVENTAS2010A2015.csv')\n",
    "df = calculate_extra_cols(df)\n",
    "\n",
    "# Cleanup all the spaces\n",
    "df[\"MARCA\"] = df[\"MARCA\"].map(lambda x: x.strip())\n",
    "df[\"IDPRODUCTO\"] = df[\"IDPRODUCTO\"].map(lambda x: x.strip())"
   ]
  },
  {
   "cell_type": "code",
   "execution_count": 18,
   "metadata": {
    "collapsed": false
   },
   "outputs": [],
   "source": [
    "df = df[df[\"IDPRODUCTO\"] == \"25967\"]\n",
    "df = df.set_index(\"FECHA\")\n",
    "ts = df[\"#UNIDADES\"]\n",
    "ts = ts.resample(\"W\").mean().sort_index().fillna(0)\n",
    "ts = ts[\"2013\":]"
   ]
  },
  {
   "cell_type": "code",
   "execution_count": 275,
   "metadata": {
    "collapsed": false
   },
   "outputs": [],
   "source": [
    "# normalize the dataset\n",
    "scaler = MinMaxScaler(feature_range=(0, 1))\n",
    "dataset = scaler.fit_transform(ts.values.reshape(-1, 1))\n",
    "# dataset = scaler.fit_transform(np.arange(20).reshape(-1, 1))"
   ]
  },
  {
   "cell_type": "code",
   "execution_count": 276,
   "metadata": {
    "collapsed": false
   },
   "outputs": [],
   "source": [
    "train_size = int(len(dataset) * 0.67)\n",
    "test_size = len(dataset) - train_size\n",
    "train, test = dataset[0:train_size,:], dataset[train_size:len(dataset),:]"
   ]
  },
  {
   "cell_type": "code",
   "execution_count": 281,
   "metadata": {
    "collapsed": false
   },
   "outputs": [],
   "source": [
    "# convert an array of values into a dataset matrix\n",
    "# def create_dataset(dataset, look_back=1):\n",
    "#     dataX, dataY = [], []\n",
    "#     for i in range(len(dataset)-look_back-1):\n",
    "#         a = dataset[i:(i + look_back), 0]\n",
    "#         dataX.append(a)\n",
    "#         dataY.append(dataset[i + look_back, 0])\n",
    "#     return np.array(dataX), np.array(dataY)\n",
    "\n",
    "def create_dataset(dataset, look_back=1):\n",
    "    dataX, dataY = [], []\n",
    "    start = len(dataset) - look_back - 1 - look_back\n",
    "#     print start\n",
    "    for i in range(start):\n",
    "        a = dataset[i + 2:(i + look_back + 2), 0]\n",
    "#         print \"i\", i, \"i+lb\", i + look_back \n",
    "        dataX.append(a)\n",
    "        dataY.append(dataset[i + look_back + 2: (i + look_back*2) + 2, 0])\n",
    "    return np.array(dataX), np.array(dataY)\n",
    "\n",
    "# reshape into X=t and Y=t+1\n",
    "look_back = 4\n",
    "trainX, trainY = create_dataset(train, look_back)\n",
    "testX, testY = create_dataset(test, look_back)\n",
    "\n",
    "# reshape input to be [samples, time steps, features]\n",
    "trainX = np.reshape(trainX, (trainX.shape[0], trainX.shape[1], 1))\n",
    "testX = np.reshape(testX, (testX.shape[0], testX.shape[1], 1))"
   ]
  },
  {
   "cell_type": "code",
   "execution_count": null,
   "metadata": {
    "collapsed": false,
    "scrolled": true
   },
   "outputs": [],
   "source": [
    "# create and fit the LSTM network\n",
    "batch_size = 1\n",
    "model = Sequential()\n",
    "model.add(LSTM(5, batch_input_shape=(batch_size, look_back, 1), stateful=True, return_sequences=True))\n",
    "model.add(LSTM(5, batch_input_shape=(batch_size, look_back, 1), stateful=True))\n",
    "model.add(Dense(4))\n",
    "model.compile(loss='mean_squared_error', optimizer='adam')\n",
    "model.fit(trainX, trainY, nb_epoch=200, batch_size=1, verbose=2)"
   ]
  },
  {
   "cell_type": "code",
   "execution_count": null,
   "metadata": {
    "collapsed": false
   },
   "outputs": [],
   "source": [
    "trainScore = model.evaluate(trainX, trainY, batch_size=batch_size, verbose=0)\n",
    "model.reset_states()\n",
    "print('Train Score: ', scaler.inverse_transform(np.array([[trainScore]])))\n",
    "\n",
    "testScore = model.evaluate(testX, testY, batch_size=batch_size, verbose=0)\n",
    "model.reset_states()\n",
    "print('Test Score: ', scaler.inverse_transform(np.array([[testScore]])))"
   ]
  },
  {
   "cell_type": "code",
   "execution_count": null,
   "metadata": {
    "collapsed": false
   },
   "outputs": [],
   "source": [
    "trainPredict = model.predict(trainX, batch_size=batch_size)\n",
    "model.reset_states()\n",
    "testPredict = model.predict(testX, batch_size=batch_size)\n",
    "model.reset_states()\n",
    "\n",
    "# shift train predictions for plotting\n",
    "trainPredictPlot = np.empty_like(dataset)\n",
    "trainPredictPlot[:, :] = np.nan\n",
    "trainPredictPlot[look_back:len(trainPredict)+look_back, :] = trainPredict\n",
    "\n",
    "# shift test predictions for plotting\n",
    "testPredictPlot = np.empty_like(dataset)\n",
    "testPredictPlot[:, :] = np.nan\n",
    "testPredictPlot[len(trainPredict)+(look_back*2)+1:len(dataset)-1, :] = testPredict"
   ]
  },
  {
   "cell_type": "code",
   "execution_count": null,
   "metadata": {
    "collapsed": false,
    "scrolled": false
   },
   "outputs": [],
   "source": [
    "# plot baseline and predictions\n",
    "plt.figure(figsize=(12,8))\n",
    "plt.plot(dataset, alpha=0.5)\n",
    "plt.plot(trainPredictPlot)\n",
    "plt.plot(testPredictPlot)"
   ]
  },
  {
   "cell_type": "code",
   "execution_count": null,
   "metadata": {
    "collapsed": false
   },
   "outputs": [],
   "source": [
    "mydata = np.arange(22).reshape(-1,1)\n",
    "# def create_dataset(dataset, look_back=1):\n",
    "#     dataX, dataY = [], []\n",
    "#     for i in range(len(dataset)-look_back-1):\n",
    "#         a = dataset[i:(i + look_back), 0]\n",
    "#         dataX.append(a)\n",
    "#         dataY.append(dataset[i + look_back, 0])\n",
    "#     return np.array(dataX), np.array(dataY)\n",
    "def create_dataset(dataset, look_back=1):\n",
    "    dataX, dataY = [], []\n",
    "    start = len(dataset) - look_back - 1 - look_back\n",
    "    print start\n",
    "    for i in range(start):\n",
    "        a = dataset[i + 2:(i + look_back + 2), 0]\n",
    "        print \"i\", i, \"i+lb\", i + look_back \n",
    "        dataX.append(a)\n",
    "        dataY.append(dataset[i + look_back + 2: (i + look_back*2) + 2, 0])\n",
    "    return np.array(dataX), np.array(dataY)\n",
    "trainX, trainY = create_dataset(mydata.reshape(-1,1), look_back=1)"
   ]
  },
  {
   "cell_type": "code",
   "execution_count": null,
   "metadata": {
    "collapsed": false
   },
   "outputs": [],
   "source": [
    "train_size = int(len(mydata) * 0.67)\n",
    "test_size = len(mydata) - train_size\n",
    "train, test = mydata[0:train_size,:], mydata[train_size:len(dataset),:]\n",
    "print train"
   ]
  },
  {
   "cell_type": "code",
   "execution_count": null,
   "metadata": {
    "collapsed": false
   },
   "outputs": [],
   "source": [
    "trainX, trainY = create_dataset(train, 2)\n",
    "testX, testY = create_dataset(test, 2)\n",
    "trainX = np.reshape(trainX, (trainX.shape[0], trainX.shape[1], 1))\n",
    "testX = np.reshape(testX, (testX.shape[0], testX.shape[1], 1))"
   ]
  },
  {
   "cell_type": "code",
   "execution_count": null,
   "metadata": {
    "collapsed": false
   },
   "outputs": [],
   "source": [
    "print trainX\n",
    "print trainY"
   ]
  }
 ],
 "metadata": {
  "kernelspec": {
   "display_name": "base",
   "language": "python",
   "name": "python3"
  },
  "language_info": {
   "codemirror_mode": {
    "name": "ipython",
    "version": 2
   },
   "file_extension": ".py",
   "mimetype": "text/x-python",
   "name": "python",
   "nbconvert_exporter": "python",
   "pygments_lexer": "ipython2",
   "version": "3.11.4"
  }
 },
 "nbformat": 4,
 "nbformat_minor": 0
}
