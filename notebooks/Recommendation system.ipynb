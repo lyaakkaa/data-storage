{
 "cells": [
  {
   "cell_type": "code",
   "execution_count": 1,
   "metadata": {
    "collapsed": true
   },
   "outputs": [],
   "source": [
    "import pandas as pd\n",
    "import numpy as np\n",
    "import matplotlib.pyplot as plt\n",
    "import seaborn\n",
    "%matplotlib inline"
   ]
  },
  {
   "cell_type": "code",
   "execution_count": null,
   "metadata": {
    "collapsed": false
   },
   "outputs": [],
   "source": [
    "def read_data(path):\n",
    "    df = pd.read_csv(path, parse_dates=['FECHA'], infer_datetime_format=True)\n",
    "    df['CPRECIO'] = df[' CPRECIO '].map(lambda x: x.strip().replace(\",\", \"\"))\n",
    "    df['CPRECIO'] = df['CPRECIO'].convert_objects(convert_numeric=True)\n",
    "    df['COSTOPESOS'] = df[' COSTOPESOS ']\n",
    "    df = df.drop([' CPRECIO ', ' COSTOPESOS '], axis=1)\n",
    "    cols = df.columns.values \n",
    "    cols[-3] = \"YEAR\"\n",
    "    df.columns = cols\n",
    "    return df\n",
    "\n",
    "def read_test_data(path):\n",
    "    df = pd.read_csv(path, parse_dates=['FECHA'], infer_datetime_format=True)\n",
    "    df['CPRECIO'] = df[' CPRECIO ']\n",
    "    df['COSTOPESOS'] = df[' COSTOPESOS ']\n",
    "    df = df.drop([' CPRECIO ', ' COSTOPESOS '], axis=1)\n",
    "    cols = df.columns.values \n",
    "    cols[-3] = \"YEAR\"\n",
    "    df.columns = cols\n",
    "    return df\n",
    "\n",
    "def calculate_extra_cols(df):\n",
    "    df['total_price'] =  df['CPRECIO'] * df['#UNIDADES'] * df['CTIPOCAM01']\n",
    "    return df\n",
    "\n",
    "df = read_data('./BASEVENTAS2010A2015.csv')\n",
    "df = calculate_extra_cols(df)\n",
    "\n",
    "# Cleanup all the spaces\n",
    "df[\"MARCA\"] = df[\"MARCA\"].map(lambda x: x.strip())\n",
    "df[\"IDPRODUCTO\"] = df[\"IDPRODUCTO\"].map(lambda x: x.strip())"
   ]
  },
  {
   "cell_type": "code",
   "execution_count": null,
   "metadata": {
    "collapsed": false
   },
   "outputs": [],
   "source": [
    "subdf = df[[\"FOLIO_FACTURA\", \"IDPRODUCTO\", \"#UNIDADES\"]]\n",
    "subdf.info()"
   ]
  },
  {
   "cell_type": "markdown",
   "metadata": {},
   "source": [
    "### Build Order to Product Matrix"
   ]
  },
  {
   "cell_type": "code",
   "execution_count": 4,
   "metadata": {
    "collapsed": false
   },
   "outputs": [],
   "source": [
    "order_prod = subdf.groupby([\"FOLIO_FACTURA\", \"IDPRODUCTO\"]).count().unstack()\n",
    "order_prod = order_prod.fillna(0)\n",
    "order_prod = order_prod[\"#UNIDADES\"]"
   ]
  },
  {
   "cell_type": "code",
   "execution_count": null,
   "metadata": {
    "collapsed": false,
    "scrolled": true
   },
   "outputs": [],
   "source": [
    "order_prod.shape"
   ]
  },
  {
   "cell_type": "markdown",
   "metadata": {},
   "source": [
    "### For product 25967 lets see which products are usually bought together"
   ]
  },
  {
   "cell_type": "code",
   "execution_count": null,
   "metadata": {
    "collapsed": false,
    "scrolled": true
   },
   "outputs": [],
   "source": [
    "order_prod[order_prod[\"25967\"] == 1].sum(axis=0).sort_values()[:-10:-1]"
   ]
  },
  {
   "cell_type": "markdown",
   "metadata": {},
   "source": [
    "### We create the pairwise distance between products and similarity matrix"
   ]
  },
  {
   "cell_type": "code",
   "execution_count": 8,
   "metadata": {
    "collapsed": false
   },
   "outputs": [],
   "source": [
    "from sklearn.metrics.pairwise import pairwise_distances, cosine_similarity\n",
    "\n",
    "similarities = cosine_similarity(order_prod.values.T)\n",
    "distances = pairwise_distances(order_prod.values.T, metric=\"cosine\")"
   ]
  },
  {
   "cell_type": "code",
   "execution_count": null,
   "metadata": {
    "collapsed": false
   },
   "outputs": [],
   "source": [
    "# Confirm that we have the correct shape\n",
    "print distances.shape, similarities.shape"
   ]
  },
  {
   "cell_type": "code",
   "execution_count": 10,
   "metadata": {
    "collapsed": false
   },
   "outputs": [],
   "source": [
    "# For speed and ease lets create a lookup dictionary for item indices\n",
    "item_dict = {}\n",
    "item_arr = order_prod.columns\n",
    "for idx, product in enumerate(order_prod.columns):\n",
    "    item_dict[product] = idx"
   ]
  },
  {
   "cell_type": "code",
   "execution_count": null,
   "metadata": {
    "collapsed": false
   },
   "outputs": [],
   "source": [
    "item_dict.items()[:10]"
   ]
  },
  {
   "cell_type": "markdown",
   "metadata": {},
   "source": [
    "### Lets get some indices for the products commonly bought for item: 25967"
   ]
  },
  {
   "cell_type": "code",
   "execution_count": null,
   "metadata": {
    "collapsed": false
   },
   "outputs": [],
   "source": [
    "print item_dict[\"25967\"], item_dict[\"62382\"], item_dict[\"1668111\"], item_dict[\"2966171\"]"
   ]
  },
  {
   "cell_type": "markdown",
   "metadata": {},
   "source": [
    "### Now lets get the row for item: 25967 with index: 4164"
   ]
  },
  {
   "cell_type": "code",
   "execution_count": 13,
   "metadata": {
    "collapsed": false
   },
   "outputs": [],
   "source": [
    "distance = distances[4164]\n",
    "similarity = similarities[4164]"
   ]
  },
  {
   "cell_type": "markdown",
   "metadata": {},
   "source": [
    "### And test agains the indices that we found earlier"
   ]
  },
  {
   "cell_type": "code",
   "execution_count": null,
   "metadata": {
    "collapsed": false
   },
   "outputs": [],
   "source": [
    "print distance[7112], distance[2222], distance[5085], item_arr[7112]\n",
    "print similarity[7112], similarity[2222], similarity[5085], item_arr[7112]"
   ]
  }
 ],
 "metadata": {
  "kernelspec": {
   "display_name": "Python [Root]",
   "language": "python",
   "name": "Python [Root]"
  },
  "language_info": {
   "codemirror_mode": {
    "name": "ipython",
    "version": 2
   },
   "file_extension": ".py",
   "mimetype": "text/x-python",
   "name": "python",
   "nbconvert_exporter": "python",
   "pygments_lexer": "ipython2",
   "version": "2.7.12"
  }
 },
 "nbformat": 4,
 "nbformat_minor": 0
}
